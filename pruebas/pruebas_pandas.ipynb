{
 "cells": [
  {
   "cell_type": "markdown",
   "id": "972e8bca",
   "metadata": {},
   "source": [
    "# Instalacion de pandas"
   ]
  },
  {
   "cell_type": "code",
   "execution_count": null,
   "id": "2dcdcb9a",
   "metadata": {},
   "outputs": [],
   "source": [
    "%pip install pandas"
   ]
  },
  {
   "cell_type": "markdown",
   "id": "3429cae0",
   "metadata": {},
   "source": [
    "## Importar pandas"
   ]
  },
  {
   "cell_type": "code",
   "execution_count": null,
   "id": "49ad233e",
   "metadata": {},
   "outputs": [],
   "source": [
    "import pandas as pd"
   ]
  },
  {
   "cell_type": "markdown",
   "id": "94331222",
   "metadata": {},
   "source": [
    "# Instalar openpyxl"
   ]
  },
  {
   "cell_type": "code",
   "execution_count": null,
   "id": "0f509356",
   "metadata": {},
   "outputs": [],
   "source": [
    "%pip install openpyxl"
   ]
  },
  {
   "cell_type": "markdown",
   "id": "51530c52",
   "metadata": {},
   "source": [
    "# obtener los datos"
   ]
  },
  {
   "cell_type": "code",
   "execution_count": null,
   "id": "34340253",
   "metadata": {},
   "outputs": [],
   "source": [
    "df = pd.read_excel('data.xlsx')\n",
    "print(\"Datos cargados desde Excel:\")"
   ]
  },
  {
   "cell_type": "markdown",
   "id": "e82f5699",
   "metadata": {},
   "source": [
    "# Codigo de exploracion de tablas"
   ]
  },
  {
   "cell_type": "code",
   "execution_count": null,
   "id": "c49eb925",
   "metadata": {},
   "outputs": [],
   "source": [
    "print(df.head())"
   ]
  }
 ],
 "metadata": {
  "kernelspec": {
   "display_name": "Python 3",
   "language": "python",
   "name": "python3"
  },
  "language_info": {
   "codemirror_mode": {
    "name": "ipython",
    "version": 3
   },
   "file_extension": ".py",
   "mimetype": "text/x-python",
   "name": "python",
   "nbconvert_exporter": "python",
   "pygments_lexer": "ipython3",
   "version": "3.12.7"
  }
 },
 "nbformat": 4,
 "nbformat_minor": 5
}
